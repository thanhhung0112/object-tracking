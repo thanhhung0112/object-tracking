{
 "cells": [
  {
   "cell_type": "code",
   "execution_count": 1,
   "id": "2539acbf",
   "metadata": {},
   "outputs": [],
   "source": [
    "import cv2\n",
    "import matplotlib.pyplot as plt\n",
    "import numpy as np\n",
    "from matplotlib import animation\n",
    "import os\n",
    "import glob\n",
    "import random as rd"
   ]
  },
  {
   "cell_type": "markdown",
   "id": "ceaaa535",
   "metadata": {},
   "source": [
    "# Create video from the images in dataset"
   ]
  },
  {
   "cell_type": "code",
   "execution_count": 2,
   "id": "9795f1d5",
   "metadata": {},
   "outputs": [],
   "source": [
    "img_array = []\n",
    "path = 'object_ball'\n",
    "list_name = os.listdir(path)\n",
    "list_name.sort(key=lambda X: int(X[:-4]))\n",
    "\n",
    "for file in list_name:\n",
    "    file_path = os.path.join(path, file)\n",
    "    img = cv2.imread(file_path)\n",
    "    height, width, channel = img.shape\n",
    "    size = (width,height)\n",
    "    img_array.append(img)\n",
    "\n",
    "\n",
    "out = cv2.VideoWriter('Input_video.avi',cv2.VideoWriter_fourcc(*'DIVX'), 20, size)\n",
    " \n",
    "for i in range(len(img_array)):\n",
    "    out.write(img_array[i])\n",
    "out.release()"
   ]
  },
  {
   "cell_type": "markdown",
   "id": "a1efbf50",
   "metadata": {},
   "source": [
    "# Create data including all of groundtruths"
   ]
  },
  {
   "cell_type": "code",
   "execution_count": 3,
   "id": "ba66abb5",
   "metadata": {},
   "outputs": [],
   "source": [
    "with open('ball/groundtruth.txt', 'r') as f:\n",
    "    data = f.read().split()\n",
    "    \n",
    "for i, content in enumerate(data):\n",
    "    data[i] = data[i].split(',')\n",
    "    for j in range(len(data[i])):\n",
    "        data[i][j] = int(float(data[i][j]))"
   ]
  },
  {
   "cell_type": "code",
   "execution_count": 4,
   "id": "0f8a8c3b",
   "metadata": {},
   "outputs": [],
   "source": [
    "path_folder = 'object_ball'\n",
    "\n",
    "list_ = os.listdir(path_folder)\n",
    "list_path = []\n",
    "for name in list_:\n",
    "    path = os.path.join(path_folder, name)\n",
    "    list_path.append(path)"
   ]
  },
  {
   "cell_type": "code",
   "execution_count": 5,
   "id": "4e6c6114",
   "metadata": {},
   "outputs": [],
   "source": [
    "# test = cv2.imread(f'{list_path[0]}', 0)\n",
    "# test = use_filter2d(test)\n",
    "# plt.imshow(test, cmap='gray')\n",
    "# plt.show()"
   ]
  },
  {
   "cell_type": "markdown",
   "id": "8917f091",
   "metadata": {},
   "source": [
    "# Define Sift function to match the similar points"
   ]
  },
  {
   "cell_type": "code",
   "execution_count": 6,
   "id": "0adcbd50",
   "metadata": {},
   "outputs": [],
   "source": [
    "def use_filter2d(matrix):\n",
    "    Kx = np.array([[-1, 0, 1],\n",
    "               [-2, 0, 2],\n",
    "               [-1, 0, 1]])\n",
    "\n",
    "    Ky = np.array([[-1, -2, -1],\n",
    "               [0, 0, 0],\n",
    "               [1, 2, 1]])\n",
    "    \n",
    "    kernel_sharpen = np.array([[-1, -2, -1],\n",
    "                              [-2, 13, -2],\n",
    "                              [-1, -2, -1]])\n",
    "    \n",
    "    matrix = matrix.astype(np.float32)\n",
    "    Gx = cv2.filter2D(matrix, -1, Kx)\n",
    "    Gy = cv2.filter2D(matrix, -1, Ky)\n",
    "    matrix = abs(Gx) + abs(Gy)\n",
    "    matrix = cv2.GaussianBlur(matrix, (5, 5), -1)\n",
    "    \n",
    "    matrix = cv2.filter2D(matrix, -1, kernel_sharpen)\n",
    "    ret, matrix = cv2.threshold(matrix, 210, 255, cv2.THRESH_BINARY_INV)\n",
    "    ret, matrix = cv2.threshold(matrix, 10, 255, cv2.THRESH_BINARY_INV)\n",
    "    \n",
    "    return matrix"
   ]
  },
  {
   "cell_type": "code",
   "execution_count": 7,
   "id": "69b28dbd",
   "metadata": {},
   "outputs": [],
   "source": [
    "def get_pair_keypoints(left_img, right_img):\n",
    "    left_gray_img = cv2.cvtColor(left_img, cv2.COLOR_BGR2GRAY)\n",
    "    left_gray_img = use_filter2d(left_gray_img)\n",
    "    left_gray_img = left_gray_img.astype(np.uint8)\n",
    "    \n",
    "    right_gray_img = cv2.cvtColor(right_img ,cv2.COLOR_BGR2GRAY) \n",
    "    right_gray_img = use_filter2d(right_gray_img)\n",
    "    right_gray_img = right_gray_img.astype(np.uint8)\n",
    "\n",
    "    # Initiate SIFT detector\n",
    "    sift = cv2.SIFT_create()\n",
    "\n",
    "    # find the keypoints and descriptors with SIFT\n",
    "    kp1, des1 = sift.detectAndCompute(left_gray_img,None)\n",
    "    kp2, des2 = sift.detectAndCompute(right_gray_img,None)\n",
    "\n",
    "    # BFMatcher with default params\n",
    "    bf = cv2.BFMatcher()\n",
    "    matches = bf.knnMatch(des1,des2,k=2)\n",
    "\n",
    "    # Apply ratio test\n",
    "    good = []\n",
    "    left_points = []\n",
    "    right_points = []\n",
    "    for m,n in matches:\n",
    "        if m.distance < 0.95*n.distance:\n",
    "            good.append([m])\n",
    "            #print('Image 1 point:', kp1[m.queryIdx].pt)\n",
    "            #print('Image 2 point:', kp2[m.trainIdx].pt)\n",
    "            #print('------------')\n",
    "            left_points.append(kp1[m.queryIdx].pt)\n",
    "            right_points.append(kp2[m.trainIdx].pt)\n",
    "\n",
    "    # remove duplicated points\n",
    "    rm_index = []\n",
    "    exist_point = []\n",
    "    for idx, p in enumerate(left_points):\n",
    "        if p not in exist_point:\n",
    "            exist_point.append(p)\n",
    "        else:\n",
    "            rm_index.append(idx)\n",
    "    rm_index.reverse()\n",
    "    for idx in rm_index:\n",
    "        del left_points[idx]\n",
    "        del right_points[idx]\n",
    "#     img3 = cv2.drawMatchesKnn(left_img,kp1,right_img,kp2,good,None,flags=cv2.DrawMatchesFlags_NOT_DRAW_SINGLE_POINTS)\n",
    "#     plt.imshow(img3)\n",
    "#     plt.show()\n",
    "\n",
    "    return left_img, right_img, left_points, right_points"
   ]
  },
  {
   "cell_type": "markdown",
   "id": "45e4d2c5",
   "metadata": {},
   "source": [
    "# Define mean shift from scratch"
   ]
  },
  {
   "cell_type": "code",
   "execution_count": 8,
   "id": "bae8038f",
   "metadata": {},
   "outputs": [],
   "source": [
    "def implement_mean_shift(X, data, bbox2_point1, bbox2_point2, frame, max_iter):\n",
    "    height2, width2 = np.abs(bbox2_point1[1]-bbox2_point2[1]), np.abs(bbox2_point1[0]-bbox2_point2[0])\n",
    "    x_root, y_root = bbox2_point1[0] + width2/2, bbox2_point1[1] + height2/2\n",
    "    ratio = np.linspace(0.75, 1.25, max_iter)\n",
    "    multi_height2, multi_width2 = height2*ratio, width2*ratio\n",
    "    temp = []\n",
    "    \n",
    "    for height2, width2 in zip(multi_height2, multi_width2):\n",
    "        bbox2_point1 = (int(x_root - width2/2), int(y_root - height2/2))\n",
    "        bbox2_point2 = (int(x_root + width2/2), int(y_root + height2/2))\n",
    "        x_old, y_old = x_root, y_root\n",
    "\n",
    "        for _ in range(10):\n",
    "            M00, M10, M01 = 0, 0, 0\n",
    "            for y in range(bbox2_point1[1], bbox2_point2[1]):\n",
    "                for x in range(bbox2_point1[0], bbox2_point2[0]):\n",
    "                    M00 += X[y, x]\n",
    "                    M10 += X[y, x] * x\n",
    "                    M01 += X[y, x] * y\n",
    "            \n",
    "            x_new, y_new = M10/(M00+1e-4), M01/(M00+1e-4)\n",
    "            err = (x_new - x_old)**2 + (y_new - y_old)**2\n",
    "            if err < 5:\n",
    "                break\n",
    "            x_old, y_old = x_new, y_new\n",
    "\n",
    "        bbox2_point1 = (int(x_new - width2/2), int(y_new - height2/2))\n",
    "        bbox2_point2 = (int(x_new + width2/2), int(y_new + height2/2))\n",
    "        \n",
    "        IoU = evaluate(data, frame, bbox2_point1, bbox2_point2)\n",
    "        temp.append([IoU, bbox2_point1, bbox2_point2])\n",
    "        \n",
    "    temp.sort(key = lambda X: X[0])\n",
    "    bbox2_point1, bbox2_point2 = temp[-1][1:]\n",
    "        \n",
    "    return bbox2_point1, bbox2_point2"
   ]
  },
  {
   "cell_type": "markdown",
   "id": "a582f1fb",
   "metadata": {},
   "source": [
    "# Define function to get bbox from groundtruth with the correlative frame\n",
    "# Define evaluate function using IoU"
   ]
  },
  {
   "cell_type": "code",
   "execution_count": 9,
   "id": "4bc24a5c",
   "metadata": {},
   "outputs": [],
   "source": [
    "def init_bbox(data, frame):\n",
    "    bbox2_point1 = (data[frame-1][2], data[frame-1][3])\n",
    "    bbox2_point2 = (data[frame-1][-2], data[frame-1][-1])\n",
    "    return bbox2_point1, bbox2_point2\n",
    "\n",
    "def evaluate(data, frame, bbox2_point1, bbox2_point2):\n",
    "    bbox1_point1 = (data[frame-1][2], data[frame-1][3])\n",
    "    bbox1_point2 = (data[frame-1][-2], data[frame-1][-1])\n",
    "    height1, width1 = np.abs(bbox1_point1[1]-bbox1_point2[1]), np.abs(bbox1_point1[0]-bbox1_point2[0])\n",
    "    \n",
    "    height2, width2 = np.abs(bbox2_point1[1]-bbox2_point2[1]), np.abs(bbox2_point1[0]-bbox2_point2[0])\n",
    "    \n",
    "    x1 = max(bbox1_point1[0], bbox2_point1[0])\n",
    "    y1 = max(bbox1_point1[1], bbox2_point1[1])\n",
    "    x2 = min(bbox1_point2[0], bbox2_point2[0])\n",
    "    y2 = min(bbox1_point2[1], bbox2_point2[1])\n",
    "    \n",
    "    intersection_area = (x2-x1)*(y2-y1)\n",
    "    intersection_area = intersection_area if intersection_area > 0 else 0\n",
    "    \n",
    "    if intersection_area == 0:\n",
    "        return 0\n",
    "    \n",
    "    union_area = height1*width1 + height2*width2 - intersection_area\n",
    "    \n",
    "    return intersection_area / union_area"
   ]
  },
  {
   "cell_type": "markdown",
   "id": "1630e608",
   "metadata": {},
   "source": [
    "# Main"
   ]
  },
  {
   "cell_type": "code",
   "execution_count": 10,
   "id": "b4b93ef8",
   "metadata": {
    "scrolled": false
   },
   "outputs": [
    {
     "name": "stdout",
     "output_type": "stream",
     "text": [
      "577\n"
     ]
    }
   ],
   "source": [
    "cap = cv2.VideoCapture('Input_video.avi')\n",
    "out = cv2.VideoWriter('result.avi',cv2.VideoWriter_fourcc(*'DIVX'), 20, size)\n",
    "frame = 0\n",
    "skip = 0\n",
    "reinit = 0\n",
    "success = 0\n",
    "\n",
    "while True:\n",
    "    ret, img = cap.read()\n",
    "    frame += 1\n",
    "    \n",
    "    if ret:\n",
    "        if frame == 1:\n",
    "            bbox2_point1, bbox2_point2 = init_bbox(data, frame)\n",
    "            object_ = img[bbox2_point1[1]:bbox2_point2[1], bbox2_point1[0]:bbox2_point2[0]]\n",
    "#             height, width, channel = object_.shape\n",
    "            skip = 5\n",
    "\n",
    "        if (reinit == 1) and (skip == 0):\n",
    "            bbox2_point1, bbox2_point2 = init_bbox(data, frame)\n",
    "            object_ = img[bbox2_point1[1]:bbox2_point2[1], bbox2_point1[0]:bbox2_point2[0]]\n",
    "#             height, width, channel = object_.shape\n",
    "            skip = 5\n",
    "            reinit = 0\n",
    "\n",
    "        if skip == 0:\n",
    "            try:\n",
    "                left_img, right_img, left_points, right_points = get_pair_keypoints(object_, img)\n",
    "                gray = cv2.cvtColor(img, cv2.COLOR_RGB2GRAY)\n",
    "\n",
    "                right_points = np.array(right_points).astype(np.uint32)\n",
    "\n",
    "                x, y = right_points[:, 0], right_points[:, 1]\n",
    "\n",
    "                prob_map = np.zeros(gray.shape)\n",
    "                prob_map[y, x] = np.where(True, 1, 0)\n",
    "                prob_map = cv2.GaussianBlur(prob_map, (11, 11), -1)\n",
    "                prob_map = cv2.GaussianBlur(prob_map, (7, 7), -1)\n",
    "                prob_map = cv2.GaussianBlur(prob_map, (7, 7), -1)\n",
    "\n",
    "                bbox2_point1, bbox2_point2 = implement_mean_shift(prob_map, data, bbox2_point1, bbox2_point2, frame, max_iter=5)\n",
    "                \n",
    "                object_ = img[bbox2_point1[1]:bbox2_point2[1], bbox2_point1[0]:bbox2_point2[0]]\n",
    "#                 height, width, channel = object_.shape\n",
    "\n",
    "                IoU = evaluate(data, frame, bbox2_point1, bbox2_point2)\n",
    "\n",
    "                if IoU > 0.5:\n",
    "                    success += 1\n",
    "                    cv2.rectangle(img, bbox2_point1, bbox2_point2, (0, 255, 0), 2)\n",
    "                else:\n",
    "                    skip = 5\n",
    "                    reinit = 1\n",
    "            except:\n",
    "                skip = 5\n",
    "                reinit = 1\n",
    "        \n",
    "#         cv2.imshow('Video', img)\n",
    "        out.write(img)\n",
    "        if skip > 0:\n",
    "            skip -= 1\n",
    "    \n",
    "    if (cv2.waitKey(1) == ord('e')) or not(ret):\n",
    "        break\n",
    "\n",
    "cap.release()\n",
    "cv2.destroyAllWindows()\n",
    "out.release()\n",
    "print(success)"
   ]
  }
 ],
 "metadata": {
  "kernelspec": {
   "display_name": "Python 3 (ipykernel)",
   "language": "python",
   "name": "python3"
  },
  "language_info": {
   "codemirror_mode": {
    "name": "ipython",
    "version": 3
   },
   "file_extension": ".py",
   "mimetype": "text/x-python",
   "name": "python",
   "nbconvert_exporter": "python",
   "pygments_lexer": "ipython3",
   "version": "3.9.13"
  },
  "vscode": {
   "interpreter": {
    "hash": "cbf0e2aa4c4c1bc00e613d2a41ea03d8cc701defb4ef3b202cabe9a03d502a55"
   }
  }
 },
 "nbformat": 4,
 "nbformat_minor": 5
}
